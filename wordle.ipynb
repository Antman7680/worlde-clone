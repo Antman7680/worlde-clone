{
 "cells": [
  {
   "cell_type": "markdown",
   "metadata": {},
   "source": [
    "#### WORDLE CLONE"
   ]
  },
  {
   "cell_type": "markdown",
   "metadata": {},
   "source": [
    "# TODO:\n",
    "    - input validation: do not let them repeat the same answer twice\n",
    "    - make the word of the day random\n",
    "    "
   ]
  },
  {
   "cell_type": "code",
   "execution_count": null,
   "metadata": {},
   "outputs": [],
   "source": [
    "hello = input(\"Hello this Anthony's Beta version of wordle. If you have already played then type go. If not and you want to hear the rules then type rules\")\n",
    "\n",
    "if hello == \"rules\":\n",
    "    print(\"The rules to wordle are simple. Type a five letter word and I will tell you if the letters are in the right place and you only have 6 tries\")\n"
   ]
  },
  {
   "cell_type": "code",
   "execution_count": 15,
   "metadata": {},
   "outputs": [
    {
     "name": "stdout",
     "output_type": "stream",
     "text": [
      "The rules to wordle are simple. Type a five letter word and I will tell you if the letters are in the right place and you only have 6 tries\n",
      "You got the chracater 'h' wrong for the index position 1\n",
      "You got the chracater 'e' wrong for the index position 2\n",
      "You got the chracater 'l' wrong for the index position 3\n",
      "You got the chracater 'l' wrong for the index position 4\n",
      "You got the chracater 'o' wrong for the index position 5\n",
      "Try again!\n"
     ]
    },
    {
     "ename": "KeyboardInterrupt",
     "evalue": "Interrupted by user",
     "output_type": "error",
     "traceback": [
      "\u001b[1;31m---------------------------------------------------------------------------\u001b[0m",
      "\u001b[1;31mKeyboardInterrupt\u001b[0m                         Traceback (most recent call last)",
      "\u001b[1;32mc:\\Users\\633004\\Downloads\\Programming\\wordle.ipynb Cell 5\u001b[0m in \u001b[0;36m<cell line: 15>\u001b[1;34m()\u001b[0m\n\u001b[0;32m     <a href='vscode-notebook-cell:/c%3A/Users/633004/Downloads/Programming/wordle.ipynb#ch0000003?line=12'>13</a>\u001b[0m answer_is_correct \u001b[39m=\u001b[39m \u001b[39mFalse\u001b[39;00m\n\u001b[0;32m     <a href='vscode-notebook-cell:/c%3A/Users/633004/Downloads/Programming/wordle.ipynb#ch0000003?line=14'>15</a>\u001b[0m \u001b[39mwhile\u001b[39;00m NUM_OF_ATTEMPTS \u001b[39m>\u001b[39m \u001b[39m0\u001b[39m \u001b[39mand\u001b[39;00m answer_is_correct \u001b[39m==\u001b[39m \u001b[39mFalse\u001b[39;00m:\n\u001b[1;32m---> <a href='vscode-notebook-cell:/c%3A/Users/633004/Downloads/Programming/wordle.ipynb#ch0000003?line=16'>17</a>\u001b[0m     attempt \u001b[39m=\u001b[39m \u001b[39minput\u001b[39;49m(\u001b[39m\"\u001b[39;49m\u001b[39mPlease insert a word: \u001b[39;49m\u001b[39m\"\u001b[39;49m)\n\u001b[0;32m     <a href='vscode-notebook-cell:/c%3A/Users/633004/Downloads/Programming/wordle.ipynb#ch0000003?line=18'>19</a>\u001b[0m     \u001b[39mwhile\u001b[39;00m \u001b[39mlen\u001b[39m(attempt) \u001b[39m>\u001b[39m \u001b[39m5\u001b[39m:\n\u001b[0;32m     <a href='vscode-notebook-cell:/c%3A/Users/633004/Downloads/Programming/wordle.ipynb#ch0000003?line=19'>20</a>\u001b[0m         \u001b[39mprint\u001b[39m(\u001b[39m\"\u001b[39m\u001b[39mHey! The word cannot be longer than 5 characters! Try again!\u001b[39m\u001b[39m\"\u001b[39m)\n",
      "File \u001b[1;32mc:\\Users\\633004\\AppData\\Local\\Programs\\Python\\Python310\\lib\\site-packages\\ipykernel\\kernelbase.py:1177\u001b[0m, in \u001b[0;36mKernel.raw_input\u001b[1;34m(self, prompt)\u001b[0m\n\u001b[0;32m   1173\u001b[0m \u001b[39mif\u001b[39;00m \u001b[39mnot\u001b[39;00m \u001b[39mself\u001b[39m\u001b[39m.\u001b[39m_allow_stdin:\n\u001b[0;32m   1174\u001b[0m     \u001b[39mraise\u001b[39;00m StdinNotImplementedError(\n\u001b[0;32m   1175\u001b[0m         \u001b[39m\"\u001b[39m\u001b[39mraw_input was called, but this frontend does not support input requests.\u001b[39m\u001b[39m\"\u001b[39m\n\u001b[0;32m   1176\u001b[0m     )\n\u001b[1;32m-> 1177\u001b[0m \u001b[39mreturn\u001b[39;00m \u001b[39mself\u001b[39;49m\u001b[39m.\u001b[39;49m_input_request(\n\u001b[0;32m   1178\u001b[0m     \u001b[39mstr\u001b[39;49m(prompt),\n\u001b[0;32m   1179\u001b[0m     \u001b[39mself\u001b[39;49m\u001b[39m.\u001b[39;49m_parent_ident[\u001b[39m\"\u001b[39;49m\u001b[39mshell\u001b[39;49m\u001b[39m\"\u001b[39;49m],\n\u001b[0;32m   1180\u001b[0m     \u001b[39mself\u001b[39;49m\u001b[39m.\u001b[39;49mget_parent(\u001b[39m\"\u001b[39;49m\u001b[39mshell\u001b[39;49m\u001b[39m\"\u001b[39;49m),\n\u001b[0;32m   1181\u001b[0m     password\u001b[39m=\u001b[39;49m\u001b[39mFalse\u001b[39;49;00m,\n\u001b[0;32m   1182\u001b[0m )\n",
      "File \u001b[1;32mc:\\Users\\633004\\AppData\\Local\\Programs\\Python\\Python310\\lib\\site-packages\\ipykernel\\kernelbase.py:1219\u001b[0m, in \u001b[0;36mKernel._input_request\u001b[1;34m(self, prompt, ident, parent, password)\u001b[0m\n\u001b[0;32m   1216\u001b[0m             \u001b[39mbreak\u001b[39;00m\n\u001b[0;32m   1217\u001b[0m \u001b[39mexcept\u001b[39;00m \u001b[39mKeyboardInterrupt\u001b[39;00m:\n\u001b[0;32m   1218\u001b[0m     \u001b[39m# re-raise KeyboardInterrupt, to truncate traceback\u001b[39;00m\n\u001b[1;32m-> 1219\u001b[0m     \u001b[39mraise\u001b[39;00m \u001b[39mKeyboardInterrupt\u001b[39;00m(\u001b[39m\"\u001b[39m\u001b[39mInterrupted by user\u001b[39m\u001b[39m\"\u001b[39m) \u001b[39mfrom\u001b[39;00m \u001b[39mNone\u001b[39m\n\u001b[0;32m   1220\u001b[0m \u001b[39mexcept\u001b[39;00m \u001b[39mException\u001b[39;00m:\n\u001b[0;32m   1221\u001b[0m     \u001b[39mself\u001b[39m\u001b[39m.\u001b[39mlog\u001b[39m.\u001b[39mwarning(\u001b[39m\"\u001b[39m\u001b[39mInvalid Message:\u001b[39m\u001b[39m\"\u001b[39m, exc_info\u001b[39m=\u001b[39m\u001b[39mTrue\u001b[39;00m)\n",
      "\u001b[1;31mKeyboardInterrupt\u001b[0m: Interrupted by user"
     ]
    }
   ],
   "source": [
    "hello=input(\"Hello this Anthony's Beta version of wordle. If you have already played then type go. If not and you want to hear the rules then type rules\")\n",
    "\n",
    "if hello == \"rules\":\n",
    "    print(\"The rules to wordle are simple. Type a five letter word and I will tell you if the letters are in the right place and you only have 6 tries\")\n",
    "\n",
    "# Online Python - IDE, Editor, Compiler, Interpreter\n",
    "NUM_OF_ATTEMPTS = 6\n",
    "\n",
    "WORD_OF_DAY = 'angry'\n",
    "\n",
    "word_of_day_list = [char for char in WORD_OF_DAY]\n",
    "\n",
    "answer_is_correct = False\n",
    "\n",
    "while NUM_OF_ATTEMPTS > 0 and answer_is_correct == False:\n",
    "    \n",
    "    attempt = input(\"Please insert a word: \")\n",
    "\n",
    "    while len(attempt) > 5:\n",
    "        print(\"Hey! The word cannot be longer than 5 characters! Try again!\")\n",
    "        attempt = input(\"Please insert a word: \")\n",
    "\n",
    "    attempt_list = [char for char in attempt]\n",
    "    \n",
    "    if attempt == WORD_OF_DAY:\n",
    "        print(f\"You got this correct! The word was {WORD_OF_DAY}\")\n",
    "        answer_is_correct = True\n",
    "        \n",
    "    else:\n",
    "    #     #use a for loop to tell them which letter they got wrong by looping through their answer.\n",
    "    #     #you can print the individual letters they messed up, by comparing these individual letters\n",
    "    #     #to the letters in the right word.\n",
    "        i = 0\n",
    "        for char in attempt_list:\n",
    "            if char == word_of_day_list[i]:\n",
    "                print(f\"Green! You got the right character '{char}' for the right position: {i+1}\")\n",
    "            \n",
    "            elif char in word_of_day_list:\n",
    "                print(f\"Yellow! You got the right character '{char}' for the wrong position: {i+1} \")\n",
    "\n",
    "            else: #lets figure out why this worked opposite\n",
    "                print(f\"You got the chracater '{char}' wrong for the position {i+1}\")\n",
    "            i += 1\n",
    "        print(\"Try again!\")\n",
    "    NUM_OF_ATTEMPTS -= 1\n"
   ]
  }
 ],
 "metadata": {
  "kernelspec": {
   "display_name": "Python 3.10.5 64-bit",
   "language": "python",
   "name": "python3"
  },
  "language_info": {
   "codemirror_mode": {
    "name": "ipython",
    "version": 3
   },
   "file_extension": ".py",
   "mimetype": "text/x-python",
   "name": "python",
   "nbconvert_exporter": "python",
   "pygments_lexer": "ipython3",
   "version": "3.10.5"
  },
  "orig_nbformat": 4,
  "vscode": {
   "interpreter": {
    "hash": "a57b54a5097d3df85da0ce765ef720fa7cdb850b63e5825dccf4571e20c1ad19"
   }
  }
 },
 "nbformat": 4,
 "nbformat_minor": 2
}
